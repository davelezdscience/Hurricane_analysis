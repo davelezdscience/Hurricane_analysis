{
 "cells": [
  {
   "cell_type": "code",
   "execution_count": null,
   "id": "7a9b7839",
   "metadata": {},
   "outputs": [],
   "source": []
  },
  {
   "cell_type": "code",
   "execution_count": 1,
   "id": "f0f40980",
   "metadata": {},
   "outputs": [],
   "source": [
    "# Names of hurricanes\n",
    "names = ['Cuba I', 'San Felipe II Okeechobee', 'Bahamas', 'Cuba II', 'CubaBrownsville', 'Tampico', 'Labor Day', 'New England', 'Carol', 'Janet', 'Carla', 'Hattie', 'Beulah', 'Camille', 'Edith', 'Anita', 'David', 'Allen', 'Gilbert', 'Hugo', 'Andrew', 'Mitch', 'Isabel', 'Ivan', 'Emily', 'Katrina', 'Rita', 'Wilma', 'Dean', 'Felix', 'Matthew', 'Irma', 'Maria', 'Michael']"
   ]
  },
  {
   "cell_type": "code",
   "execution_count": 2,
   "id": "b83873a9",
   "metadata": {},
   "outputs": [],
   "source": [
    "#months of hurricanes\n",
    "months = ['October', 'September', 'September', 'November', 'August', 'September', 'September', 'September', 'September', 'September', 'September', 'October', 'September', 'August', 'September', 'September', 'August', 'August', 'September', 'September', 'August', 'October', 'September', 'September', 'July', 'August', 'September', 'October', 'August', 'September', 'October', 'September', 'September', 'October']"
   ]
  },
  {
   "cell_type": "code",
   "execution_count": 3,
   "id": "a67b5463",
   "metadata": {},
   "outputs": [],
   "source": [
    "# years of hurricanes\n",
    "years = [1924, 1928, 1932, 1932, 1933, 1933, 1935, 1938, 1953, 1955, 1961, 1961, 1967, 1969, 1971, 1977, 1979, 1980, 1988, 1989, 1992, 1998, 2003, 2004, 2005, 2005, 2005, 2005, 2007, 2007, 2016, 2017, 2017, 2018]"
   ]
  },
  {
   "cell_type": "code",
   "execution_count": 4,
   "id": "91948f54",
   "metadata": {},
   "outputs": [],
   "source": [
    "#maximum sustained winds (mph) of  hurricanes\n",
    "max_sustained_winds = [165, 160, 160, 175, 160, 160, 185, 160, 160, 175, 175, 160, 160, 175, 160, 175, 175, 190, 185, 160, 175, 180, 165, 165, 160, 175, 180, 185, 175, 175, 165, 180, 175, 160]\n"
   ]
  },
  {
   "cell_type": "code",
   "execution_count": 5,
   "id": "e6b95dc5",
   "metadata": {},
   "outputs": [],
   "source": [
    "# areas affected by each hurricane\n",
    "areas_affected = [['Central America', 'Mexico', 'Cuba', 'Florida', 'The Bahamas'], ['Lesser Antilles', 'The Bahamas', 'United States East Coast', 'Atlantic Canada'], ['The Bahamas', 'Northeastern United States'], ['Lesser Antilles', 'Jamaica', 'Cayman Islands', 'Cuba', 'The Bahamas', 'Bermuda'], ['The Bahamas', 'Cuba', 'Florida', 'Texas', 'Tamaulipas'], ['Jamaica', 'Yucatn Peninsula'], ['The Bahamas', 'Florida', 'Georgia', 'The Carolinas', 'Virginia'], ['Southeastern United States', 'Northeastern United States', 'Southwestern Quebec'], ['Bermuda', 'New England', 'Atlantic Canada'], ['Lesser Antilles', 'Central America'], ['Texas', 'Louisiana', 'Midwestern United States'], ['Central America'], ['The Caribbean', 'Mexico', 'Texas'], ['Cuba', 'United States Gulf Coast'], ['The Caribbean', 'Central America', 'Mexico', 'United States Gulf Coast'], ['Mexico'], ['The Caribbean', 'United States East coast'], ['The Caribbean', 'Yucatn Peninsula', 'Mexico', 'South Texas'], ['Jamaica', 'Venezuela', 'Central America', 'Hispaniola', 'Mexico'], ['The Caribbean', 'United States East Coast'], ['The Bahamas', 'Florida', 'United States Gulf Coast'], ['Central America', 'Yucatn Peninsula', 'South Florida'], ['Greater Antilles', 'Bahamas', 'Eastern United States', 'Ontario'], ['The Caribbean', 'Venezuela', 'United States Gulf Coast'], ['Windward Islands', 'Jamaica', 'Mexico', 'Texas'], ['Bahamas', 'United States Gulf Coast'], ['Cuba', 'United States Gulf Coast'], ['Greater Antilles', 'Central America', 'Florida'], ['The Caribbean', 'Central America'], ['Nicaragua', 'Honduras'], ['Antilles', 'Venezuela', 'Colombia', 'United States East Coast', 'Atlantic Canada'], ['Cape Verde', 'The Caribbean', 'British Virgin Islands', 'U.S. Virgin Islands', 'Cuba', 'Florida'], ['Lesser Antilles', 'Virgin Islands', 'Puerto Rico', 'Dominican Republic', 'Turks and Caicos Islands'], ['Central America', 'United States Gulf Coast (especially Florida Panhandle)']]\n"
   ]
  },
  {
   "cell_type": "code",
   "execution_count": 6,
   "id": "4a20d85c",
   "metadata": {},
   "outputs": [],
   "source": [
    "#damages (USD($)) of huricanes\n",
    "damages = ['Damages not recorded', '100M', 'Damages not recorded', '40M', '27.9M', '5M', 'Damages not recorded', '306M', '2M', '65.8M', '326M', '60.3M', '208M', '1.42B', '25.4M', 'Damages not recorded', '1.54B', '1.24B', '7.1B', '10B', '26.5B', '6.2B', '5.37B', '23.3B', '1.01B', '125B', '12B', '29.4B', '1.76B', '720M', '15.1B', '64.8B', '91.6B', '25.1B']"
   ]
  },
  {
   "cell_type": "code",
   "execution_count": 7,
   "id": "2310b5b8",
   "metadata": {},
   "outputs": [],
   "source": [
    "# deaths for each hurricane\n",
    "deaths = [90,4000,16,3103,179,184,408,682,5,1023,43,319,688,259,37,11,2068,269,318,107,65,19325,51,124,17,1836,125,87,45,133,603,138,3057,74]"
   ]
  },
  {
   "cell_type": "code",
   "execution_count": null,
   "id": "d30b702d",
   "metadata": {},
   "outputs": [
    {
     "name": "stdout",
     "output_type": "stream",
     "text": [
      "['Damages not recorded', 100000000.0, 'Damages not recorded', 40000000.0, 27900000.0, 5000000.0, 'Damages not recorded', 306000000.0, 2000000.0, 65800000.0, 326000000.0, 60300000.0, 208000000.0, 1420000000.0, 25400000.0, 'Damages not recorded', 1540000000.0, 1240000000.0, 7100000000.0, 10000000000.0, 26500000000.0, 6200000000.0, 5370000000.0, 23300000000.0, 1010000000.0, 125000000000.0, 12000000000.0, 29400000000.0, 1760000000.0, 720000000.0, 15100000000.0, 64800000000.0, 91600000000.0, 25100000000.0]\n"
     ]
    }
   ],
   "source": [
    "#1\n",
    "# Update Recorded Damages\n",
    "conversion = {\"M\": 1000000, \"B\": 1000000000}\n",
    "\n",
    "#test function by updating damages using the conversion dictionary\n",
    "def update_damages(damages):\n",
    "    update_damages = []\n",
    "    for damage in damages:\n",
    "        if damage == \"Damages not recorded\":\n",
    "            update_damages.append(damage)\n",
    "        else:\n",
    "            amount = float(damage[:-1])\n",
    "            unit = damage[-1]\n",
    "            if unit in conversion:\n",
    "                amount *= conversion[unit]\n",
    "                update_damages.append(amount)\n",
    "    return update_damages\n",
    "print(update_damages(damages))"
   ]
  },
  {
   "cell_type": "code",
   "execution_count": 17,
   "id": "ef19e477",
   "metadata": {},
   "outputs": [
    {
     "name": "stdout",
     "output_type": "stream",
     "text": [
      "{'Cuba I': {'Names': 'Cuba I', 'Month': 'October', 'Year': 1924, 'Max Sustained Winds': 165, 'Areas Affected': ['Central America', 'Mexico', 'Cuba', 'Florida', 'The Bahamas'], 'Damages': 'Damages not recorded', 'Deaths': 90}, 'San Felipe II Okeechobee': {'Names': 'San Felipe II Okeechobee', 'Month': 'September', 'Year': 1928, 'Max Sustained Winds': 160, 'Areas Affected': ['Lesser Antilles', 'The Bahamas', 'United States East Coast', 'Atlantic Canada'], 'Damages': '100M', 'Deaths': 4000}, 'Bahamas': {'Names': 'Bahamas', 'Month': 'September', 'Year': 1932, 'Max Sustained Winds': 160, 'Areas Affected': ['The Bahamas', 'Northeastern United States'], 'Damages': 'Damages not recorded', 'Deaths': 16}, 'Cuba II': {'Names': 'Cuba II', 'Month': 'November', 'Year': 1932, 'Max Sustained Winds': 175, 'Areas Affected': ['Lesser Antilles', 'Jamaica', 'Cayman Islands', 'Cuba', 'The Bahamas', 'Bermuda'], 'Damages': '40M', 'Deaths': 3103}, 'CubaBrownsville': {'Names': 'CubaBrownsville', 'Month': 'August', 'Year': 1933, 'Max Sustained Winds': 160, 'Areas Affected': ['The Bahamas', 'Cuba', 'Florida', 'Texas', 'Tamaulipas'], 'Damages': '27.9M', 'Deaths': 179}, 'Tampico': {'Names': 'Tampico', 'Month': 'September', 'Year': 1933, 'Max Sustained Winds': 160, 'Areas Affected': ['Jamaica', 'Yucatn Peninsula'], 'Damages': '5M', 'Deaths': 184}, 'Labor Day': {'Names': 'Labor Day', 'Month': 'September', 'Year': 1935, 'Max Sustained Winds': 185, 'Areas Affected': ['The Bahamas', 'Florida', 'Georgia', 'The Carolinas', 'Virginia'], 'Damages': 'Damages not recorded', 'Deaths': 408}, 'New England': {'Names': 'New England', 'Month': 'September', 'Year': 1938, 'Max Sustained Winds': 160, 'Areas Affected': ['Southeastern United States', 'Northeastern United States', 'Southwestern Quebec'], 'Damages': '306M', 'Deaths': 682}, 'Carol': {'Names': 'Carol', 'Month': 'September', 'Year': 1953, 'Max Sustained Winds': 160, 'Areas Affected': ['Bermuda', 'New England', 'Atlantic Canada'], 'Damages': '2M', 'Deaths': 5}, 'Janet': {'Names': 'Janet', 'Month': 'September', 'Year': 1955, 'Max Sustained Winds': 175, 'Areas Affected': ['Lesser Antilles', 'Central America'], 'Damages': '65.8M', 'Deaths': 1023}, 'Carla': {'Names': 'Carla', 'Month': 'September', 'Year': 1961, 'Max Sustained Winds': 175, 'Areas Affected': ['Texas', 'Louisiana', 'Midwestern United States'], 'Damages': '326M', 'Deaths': 43}, 'Hattie': {'Names': 'Hattie', 'Month': 'October', 'Year': 1961, 'Max Sustained Winds': 160, 'Areas Affected': ['Central America'], 'Damages': '60.3M', 'Deaths': 319}, 'Beulah': {'Names': 'Beulah', 'Month': 'September', 'Year': 1967, 'Max Sustained Winds': 160, 'Areas Affected': ['The Caribbean', 'Mexico', 'Texas'], 'Damages': '208M', 'Deaths': 688}, 'Camille': {'Names': 'Camille', 'Month': 'August', 'Year': 1969, 'Max Sustained Winds': 175, 'Areas Affected': ['Cuba', 'United States Gulf Coast'], 'Damages': '1.42B', 'Deaths': 259}, 'Edith': {'Names': 'Edith', 'Month': 'September', 'Year': 1971, 'Max Sustained Winds': 160, 'Areas Affected': ['The Caribbean', 'Central America', 'Mexico', 'United States Gulf Coast'], 'Damages': '25.4M', 'Deaths': 37}, 'Anita': {'Names': 'Anita', 'Month': 'September', 'Year': 1977, 'Max Sustained Winds': 175, 'Areas Affected': ['Mexico'], 'Damages': 'Damages not recorded', 'Deaths': 11}, 'David': {'Names': 'David', 'Month': 'August', 'Year': 1979, 'Max Sustained Winds': 175, 'Areas Affected': ['The Caribbean', 'United States East coast'], 'Damages': '1.54B', 'Deaths': 2068}, 'Allen': {'Names': 'Allen', 'Month': 'August', 'Year': 1980, 'Max Sustained Winds': 190, 'Areas Affected': ['The Caribbean', 'Yucatn Peninsula', 'Mexico', 'South Texas'], 'Damages': '1.24B', 'Deaths': 269}, 'Gilbert': {'Names': 'Gilbert', 'Month': 'September', 'Year': 1988, 'Max Sustained Winds': 185, 'Areas Affected': ['Jamaica', 'Venezuela', 'Central America', 'Hispaniola', 'Mexico'], 'Damages': '7.1B', 'Deaths': 318}, 'Hugo': {'Names': 'Hugo', 'Month': 'September', 'Year': 1989, 'Max Sustained Winds': 160, 'Areas Affected': ['The Caribbean', 'United States East Coast'], 'Damages': '10B', 'Deaths': 107}, 'Andrew': {'Names': 'Andrew', 'Month': 'August', 'Year': 1992, 'Max Sustained Winds': 175, 'Areas Affected': ['The Bahamas', 'Florida', 'United States Gulf Coast'], 'Damages': '26.5B', 'Deaths': 65}, 'Mitch': {'Names': 'Mitch', 'Month': 'October', 'Year': 1998, 'Max Sustained Winds': 180, 'Areas Affected': ['Central America', 'Yucatn Peninsula', 'South Florida'], 'Damages': '6.2B', 'Deaths': 19325}, 'Isabel': {'Names': 'Isabel', 'Month': 'September', 'Year': 2003, 'Max Sustained Winds': 165, 'Areas Affected': ['Greater Antilles', 'Bahamas', 'Eastern United States', 'Ontario'], 'Damages': '5.37B', 'Deaths': 51}, 'Ivan': {'Names': 'Ivan', 'Month': 'September', 'Year': 2004, 'Max Sustained Winds': 165, 'Areas Affected': ['The Caribbean', 'Venezuela', 'United States Gulf Coast'], 'Damages': '23.3B', 'Deaths': 124}, 'Emily': {'Names': 'Emily', 'Month': 'July', 'Year': 2005, 'Max Sustained Winds': 160, 'Areas Affected': ['Windward Islands', 'Jamaica', 'Mexico', 'Texas'], 'Damages': '1.01B', 'Deaths': 17}, 'Katrina': {'Names': 'Katrina', 'Month': 'August', 'Year': 2005, 'Max Sustained Winds': 175, 'Areas Affected': ['Bahamas', 'United States Gulf Coast'], 'Damages': '125B', 'Deaths': 1836}, 'Rita': {'Names': 'Rita', 'Month': 'September', 'Year': 2005, 'Max Sustained Winds': 180, 'Areas Affected': ['Cuba', 'United States Gulf Coast'], 'Damages': '12B', 'Deaths': 125}, 'Wilma': {'Names': 'Wilma', 'Month': 'October', 'Year': 2005, 'Max Sustained Winds': 185, 'Areas Affected': ['Greater Antilles', 'Central America', 'Florida'], 'Damages': '29.4B', 'Deaths': 87}, 'Dean': {'Names': 'Dean', 'Month': 'August', 'Year': 2007, 'Max Sustained Winds': 175, 'Areas Affected': ['The Caribbean', 'Central America'], 'Damages': '1.76B', 'Deaths': 45}, 'Felix': {'Names': 'Felix', 'Month': 'September', 'Year': 2007, 'Max Sustained Winds': 175, 'Areas Affected': ['Nicaragua', 'Honduras'], 'Damages': '720M', 'Deaths': 133}, 'Matthew': {'Names': 'Matthew', 'Month': 'October', 'Year': 2016, 'Max Sustained Winds': 165, 'Areas Affected': ['Antilles', 'Venezuela', 'Colombia', 'United States East Coast', 'Atlantic Canada'], 'Damages': '15.1B', 'Deaths': 603}, 'Irma': {'Names': 'Irma', 'Month': 'September', 'Year': 2017, 'Max Sustained Winds': 180, 'Areas Affected': ['Cape Verde', 'The Caribbean', 'British Virgin Islands', 'U.S. Virgin Islands', 'Cuba', 'Florida'], 'Damages': '64.8B', 'Deaths': 138}, 'Maria': {'Names': 'Maria', 'Month': 'September', 'Year': 2017, 'Max Sustained Winds': 175, 'Areas Affected': ['Lesser Antilles', 'Virgin Islands', 'Puerto Rico', 'Dominican Republic', 'Turks and Caicos Islands'], 'Damages': '91.6B', 'Deaths': 3057}, 'Michael': {'Names': 'Michael', 'Month': 'October', 'Year': 2018, 'Max Sustained Winds': 160, 'Areas Affected': ['Central America', 'United States Gulf Coast (especially Florida Panhandle)'], 'Damages': '25.1B', 'Deaths': 74}}\n"
     ]
    }
   ],
   "source": [
    "#2\n",
    "# Create a table\n",
    "# Create and view the hurricanes dictionary\n",
    "#Function that constructs a dictionary from the lists\n",
    "def hurricane_dict(names, months,years, max_sustained_winds, areas_affected, damages, deaths):\n",
    "    hurricanes = {}\n",
    "    for i in range(len(names)):\n",
    "        hurricanes[names[i]] = {\n",
    "            \"Names\": names[i],\n",
    "            \"Month\": months[i],\n",
    "            \"Year\": years[i],\n",
    "            \"Max Sustained Winds\": max_sustained_winds[i],\n",
    "            \"Areas Affected\": areas_affected[i],\n",
    "            \"Damages\": damages[i],\n",
    "            \"Deaths\": deaths[i] \n",
    "        }\n",
    "    return hurricanes\n",
    "print(hurricane_dict(names, months,years, max_sustained_winds, areas_affected, damages, deaths))"
   ]
  },
  {
   "cell_type": "code",
   "execution_count": 19,
   "id": "b16aec3b",
   "metadata": {},
   "outputs": [
    {
     "name": "stdout",
     "output_type": "stream",
     "text": [
      "{1924: [{'Names': 'Cuba I', 'Month': 'October', 'Year': 1924, 'Max Sustained Winds': 165, 'Areas Affected': ['Central America', 'Mexico', 'Cuba', 'Florida', 'The Bahamas'], 'Damages': 'Damages not recorded', 'Deaths': 90}], 1928: [{'Names': 'San Felipe II Okeechobee', 'Month': 'September', 'Year': 1928, 'Max Sustained Winds': 160, 'Areas Affected': ['Lesser Antilles', 'The Bahamas', 'United States East Coast', 'Atlantic Canada'], 'Damages': '100M', 'Deaths': 4000}], 1932: [{'Names': 'Bahamas', 'Month': 'September', 'Year': 1932, 'Max Sustained Winds': 160, 'Areas Affected': ['The Bahamas', 'Northeastern United States'], 'Damages': 'Damages not recorded', 'Deaths': 16}, {'Names': 'Cuba II', 'Month': 'November', 'Year': 1932, 'Max Sustained Winds': 175, 'Areas Affected': ['Lesser Antilles', 'Jamaica', 'Cayman Islands', 'Cuba', 'The Bahamas', 'Bermuda'], 'Damages': '40M', 'Deaths': 3103}], 1933: [{'Names': 'CubaBrownsville', 'Month': 'August', 'Year': 1933, 'Max Sustained Winds': 160, 'Areas Affected': ['The Bahamas', 'Cuba', 'Florida', 'Texas', 'Tamaulipas'], 'Damages': '27.9M', 'Deaths': 179}, {'Names': 'Tampico', 'Month': 'September', 'Year': 1933, 'Max Sustained Winds': 160, 'Areas Affected': ['Jamaica', 'Yucatn Peninsula'], 'Damages': '5M', 'Deaths': 184}], 1935: [{'Names': 'Labor Day', 'Month': 'September', 'Year': 1935, 'Max Sustained Winds': 185, 'Areas Affected': ['The Bahamas', 'Florida', 'Georgia', 'The Carolinas', 'Virginia'], 'Damages': 'Damages not recorded', 'Deaths': 408}], 1938: [{'Names': 'New England', 'Month': 'September', 'Year': 1938, 'Max Sustained Winds': 160, 'Areas Affected': ['Southeastern United States', 'Northeastern United States', 'Southwestern Quebec'], 'Damages': '306M', 'Deaths': 682}], 1953: [{'Names': 'Carol', 'Month': 'September', 'Year': 1953, 'Max Sustained Winds': 160, 'Areas Affected': ['Bermuda', 'New England', 'Atlantic Canada'], 'Damages': '2M', 'Deaths': 5}], 1955: [{'Names': 'Janet', 'Month': 'September', 'Year': 1955, 'Max Sustained Winds': 175, 'Areas Affected': ['Lesser Antilles', 'Central America'], 'Damages': '65.8M', 'Deaths': 1023}], 1961: [{'Names': 'Carla', 'Month': 'September', 'Year': 1961, 'Max Sustained Winds': 175, 'Areas Affected': ['Texas', 'Louisiana', 'Midwestern United States'], 'Damages': '326M', 'Deaths': 43}, {'Names': 'Hattie', 'Month': 'October', 'Year': 1961, 'Max Sustained Winds': 160, 'Areas Affected': ['Central America'], 'Damages': '60.3M', 'Deaths': 319}], 1967: [{'Names': 'Beulah', 'Month': 'September', 'Year': 1967, 'Max Sustained Winds': 160, 'Areas Affected': ['The Caribbean', 'Mexico', 'Texas'], 'Damages': '208M', 'Deaths': 688}], 1969: [{'Names': 'Camille', 'Month': 'August', 'Year': 1969, 'Max Sustained Winds': 175, 'Areas Affected': ['Cuba', 'United States Gulf Coast'], 'Damages': '1.42B', 'Deaths': 259}], 1971: [{'Names': 'Edith', 'Month': 'September', 'Year': 1971, 'Max Sustained Winds': 160, 'Areas Affected': ['The Caribbean', 'Central America', 'Mexico', 'United States Gulf Coast'], 'Damages': '25.4M', 'Deaths': 37}], 1977: [{'Names': 'Anita', 'Month': 'September', 'Year': 1977, 'Max Sustained Winds': 175, 'Areas Affected': ['Mexico'], 'Damages': 'Damages not recorded', 'Deaths': 11}], 1979: [{'Names': 'David', 'Month': 'August', 'Year': 1979, 'Max Sustained Winds': 175, 'Areas Affected': ['The Caribbean', 'United States East coast'], 'Damages': '1.54B', 'Deaths': 2068}], 1980: [{'Names': 'Allen', 'Month': 'August', 'Year': 1980, 'Max Sustained Winds': 190, 'Areas Affected': ['The Caribbean', 'Yucatn Peninsula', 'Mexico', 'South Texas'], 'Damages': '1.24B', 'Deaths': 269}], 1988: [{'Names': 'Gilbert', 'Month': 'September', 'Year': 1988, 'Max Sustained Winds': 185, 'Areas Affected': ['Jamaica', 'Venezuela', 'Central America', 'Hispaniola', 'Mexico'], 'Damages': '7.1B', 'Deaths': 318}], 1989: [{'Names': 'Hugo', 'Month': 'September', 'Year': 1989, 'Max Sustained Winds': 160, 'Areas Affected': ['The Caribbean', 'United States East Coast'], 'Damages': '10B', 'Deaths': 107}], 1992: [{'Names': 'Andrew', 'Month': 'August', 'Year': 1992, 'Max Sustained Winds': 175, 'Areas Affected': ['The Bahamas', 'Florida', 'United States Gulf Coast'], 'Damages': '26.5B', 'Deaths': 65}], 1998: [{'Names': 'Mitch', 'Month': 'October', 'Year': 1998, 'Max Sustained Winds': 180, 'Areas Affected': ['Central America', 'Yucatn Peninsula', 'South Florida'], 'Damages': '6.2B', 'Deaths': 19325}], 2003: [{'Names': 'Isabel', 'Month': 'September', 'Year': 2003, 'Max Sustained Winds': 165, 'Areas Affected': ['Greater Antilles', 'Bahamas', 'Eastern United States', 'Ontario'], 'Damages': '5.37B', 'Deaths': 51}], 2004: [{'Names': 'Ivan', 'Month': 'September', 'Year': 2004, 'Max Sustained Winds': 165, 'Areas Affected': ['The Caribbean', 'Venezuela', 'United States Gulf Coast'], 'Damages': '23.3B', 'Deaths': 124}], 2005: [{'Names': 'Emily', 'Month': 'July', 'Year': 2005, 'Max Sustained Winds': 160, 'Areas Affected': ['Windward Islands', 'Jamaica', 'Mexico', 'Texas'], 'Damages': '1.01B', 'Deaths': 17}, {'Names': 'Katrina', 'Month': 'August', 'Year': 2005, 'Max Sustained Winds': 175, 'Areas Affected': ['Bahamas', 'United States Gulf Coast'], 'Damages': '125B', 'Deaths': 1836}, {'Names': 'Rita', 'Month': 'September', 'Year': 2005, 'Max Sustained Winds': 180, 'Areas Affected': ['Cuba', 'United States Gulf Coast'], 'Damages': '12B', 'Deaths': 125}, {'Names': 'Wilma', 'Month': 'October', 'Year': 2005, 'Max Sustained Winds': 185, 'Areas Affected': ['Greater Antilles', 'Central America', 'Florida'], 'Damages': '29.4B', 'Deaths': 87}], 2007: [{'Names': 'Dean', 'Month': 'August', 'Year': 2007, 'Max Sustained Winds': 175, 'Areas Affected': ['The Caribbean', 'Central America'], 'Damages': '1.76B', 'Deaths': 45}, {'Names': 'Felix', 'Month': 'September', 'Year': 2007, 'Max Sustained Winds': 175, 'Areas Affected': ['Nicaragua', 'Honduras'], 'Damages': '720M', 'Deaths': 133}], 2016: [{'Names': 'Matthew', 'Month': 'October', 'Year': 2016, 'Max Sustained Winds': 165, 'Areas Affected': ['Antilles', 'Venezuela', 'Colombia', 'United States East Coast', 'Atlantic Canada'], 'Damages': '15.1B', 'Deaths': 603}], 2017: [{'Names': 'Irma', 'Month': 'September', 'Year': 2017, 'Max Sustained Winds': 180, 'Areas Affected': ['Cape Verde', 'The Caribbean', 'British Virgin Islands', 'U.S. Virgin Islands', 'Cuba', 'Florida'], 'Damages': '64.8B', 'Deaths': 138}, {'Names': 'Maria', 'Month': 'September', 'Year': 2017, 'Max Sustained Winds': 175, 'Areas Affected': ['Lesser Antilles', 'Virgin Islands', 'Puerto Rico', 'Dominican Republic', 'Turks and Caicos Islands'], 'Damages': '91.6B', 'Deaths': 3057}], 2018: [{'Names': 'Michael', 'Month': 'October', 'Year': 2018, 'Max Sustained Winds': 160, 'Areas Affected': ['Central America', 'United States Gulf Coast (especially Florida Panhandle)'], 'Damages': '25.1B', 'Deaths': 74}]}\n"
     ]
    }
   ],
   "source": [
    "#Organizing the hurricanes dictionary by year\n",
    "def hurricanes_by_year(hurricanes):\n",
    "    hurricanes_by_year = {}\n",
    "    for hurricane in hurricanes.values():\n",
    "        year = hurricane[\"Year\"]\n",
    "        if year not in hurricanes_by_year:\n",
    "            hurricanes_by_year[year] = []\n",
    "        hurricanes_by_year[year].append(hurricane)\n",
    "    return hurricanes_by_year\n",
    "hurricanes = hurricane_dict(names, months,years, max_sustained_winds, areas_affected, damages, deaths)\n",
    "print(hurricanes_by_year(hurricanes))"
   ]
  },
  {
   "cell_type": "code",
   "execution_count": 20,
   "id": "c9719b33",
   "metadata": {},
   "outputs": [
    {
     "name": "stdout",
     "output_type": "stream",
     "text": [
      "{'Central America': 9, 'Mexico': 7, 'Cuba': 6, 'Florida': 6, 'The Bahamas': 7, 'Lesser Antilles': 4, 'United States East Coast': 3, 'Atlantic Canada': 3, 'Northeastern United States': 2, 'Jamaica': 4, 'Cayman Islands': 1, 'Bermuda': 2, 'Texas': 4, 'Tamaulipas': 1, 'Yucatn Peninsula': 3, 'Georgia': 1, 'The Carolinas': 1, 'Virginia': 1, 'Southeastern United States': 1, 'Southwestern Quebec': 1, 'New England': 1, 'Louisiana': 1, 'Midwestern United States': 1, 'The Caribbean': 8, 'United States Gulf Coast': 6, 'United States East coast': 1, 'South Texas': 1, 'Venezuela': 3, 'Hispaniola': 1, 'South Florida': 1, 'Greater Antilles': 2, 'Bahamas': 2, 'Eastern United States': 1, 'Ontario': 1, 'Windward Islands': 1, 'Nicaragua': 1, 'Honduras': 1, 'Antilles': 1, 'Colombia': 1, 'Cape Verde': 1, 'British Virgin Islands': 1, 'U.S. Virgin Islands': 1, 'Virgin Islands': 1, 'Puerto Rico': 1, 'Dominican Republic': 1, 'Turks and Caicos Islands': 1, 'United States Gulf Coast (especially Florida Panhandle)': 1}\n"
     ]
    }
   ],
   "source": [
    "#Function that counts how often each area is listed as an affected area of a hurricane\n",
    "def count_areas(areas_affected):\n",
    "    area_count = {}\n",
    "    for area in areas_affected:\n",
    "        if area not in area_count:\n",
    "            area_count[area] = 0\n",
    "        area_count[area] += 1\n",
    "    return area_count\n",
    "print(count_areas([area for sublist in areas_affected for area in sublist]))"
   ]
  },
  {
   "cell_type": "code",
   "execution_count": 31,
   "id": "3815264d",
   "metadata": {},
   "outputs": [
    {
     "name": "stdout",
     "output_type": "stream",
     "text": [
      "('Central America', 9)\n"
     ]
    }
   ],
   "source": [
    "#Function that finds the area affected by the most hurricanes, and how often it was affected\n",
    "def most_affected_area(count_areas):\n",
    "    area_count = count_areas([area for sublist in areas_affected for area in sublist])\n",
    "    most_affected = max(area_count, key=area_count.get)\n",
    "    return most_affected, area_count[most_affected]\n",
    "print(most_affected_area(count_areas))\n"
   ]
  },
  {
   "cell_type": "code",
   "execution_count": 34,
   "id": "2a556487",
   "metadata": {},
   "outputs": [
    {
     "name": "stdout",
     "output_type": "stream",
     "text": [
      "('Mitch', 19325)\n"
     ]
    }
   ],
   "source": [
    "# Function that finds the hurricane that caused the greatest number of deaths\n",
    "def deadliest_hurricane(hurricanes):\n",
    "    max_deaths = max(deaths)\n",
    "    deadliest = {}\n",
    "    for hurricane in hurricanes.values():\n",
    "        if hurricane[\"Deaths\"] == max_deaths:\n",
    "            deadliest = hurricane\n",
    "            break\n",
    "    return deadliest[\"Names\"], deadliest[\"Deaths\"]\n",
    "print(deadliest_hurricane(hurricanes))\n"
   ]
  },
  {
   "cell_type": "code",
   "execution_count": 35,
   "id": "d25eaf1a",
   "metadata": {},
   "outputs": [
    {
     "name": "stdout",
     "output_type": "stream",
     "text": [
      "{'Cuba I': 1, 'San Felipe II Okeechobee': 4, 'Bahamas': 1, 'Cuba II': 4, 'CubaBrownsville': 2, 'Tampico': 2, 'Labor Day': 2, 'New England': 3, 'Carol': 1, 'Janet': 4, 'Carla': 1, 'Hattie': 2, 'Beulah': 3, 'Camille': 2, 'Edith': 1, 'Anita': 1, 'David': 4, 'Allen': 2, 'Gilbert': 2, 'Hugo': 2, 'Andrew': 1, 'Mitch': 4, 'Isabel': 1, 'Ivan': 2, 'Emily': 1, 'Katrina': 4, 'Rita': 2, 'Wilma': 1, 'Dean': 1, 'Felix': 2, 'Matthew': 3, 'Irma': 2, 'Maria': 4, 'Michael': 1}\n"
     ]
    }
   ],
   "source": [
    "#Function that rates hurricanes on a mortality scale\n",
    "def mortality_scale(hurricanes):\n",
    "    mortality_scale = {}\n",
    "    for hurrican in hurricanes.values():\n",
    "        if hurrican[\"Deaths\"] == 0:\n",
    "            mortality_scale[hurrican[\"Names\"]] = 0\n",
    "        elif hurrican[\"Deaths\"] <= 100:\n",
    "            mortality_scale[hurrican[\"Names\"]] = 1\n",
    "        elif hurrican[\"Deaths\"] <= 500:\n",
    "            mortality_scale[hurrican[\"Names\"]] = 2\n",
    "        elif hurrican[\"Deaths\"] <= 1000:\n",
    "            mortality_scale[hurrican[\"Names\"]] = 3\n",
    "        else:\n",
    "            mortality_scale[hurrican[\"Names\"]] = 4\n",
    "    return mortality_scale\n",
    "print(mortality_scale(hurricanes))\n"
   ]
  },
  {
   "cell_type": "code",
   "execution_count": 52,
   "id": "0c8f9697",
   "metadata": {},
   "outputs": [
    {
     "name": "stdout",
     "output_type": "stream",
     "text": [
      "('Katrina', 125000000000.0)\n"
     ]
    }
   ],
   "source": [
    "# Function that finds the hurricane that caused the greatest damage and how costly it was\n",
    "def costliest_hurricane(hurricanes):\n",
    "    updated_damages = update_damages(damages)\n",
    "    max_damage = max([d for d in updated_damages if isinstance(d, (int, float))])\n",
    "    costliest = {}\n",
    "    for hurricane in hurricanes.values():\n",
    "        if hurricane[\"Damages\"] != \"Damages not recorded\":\n",
    "            damage_amount = float(hurricane[\"Damages\"][:-1]) * conversion[hurricane[\"Damages\"][-1]]\n",
    "            if damage_amount == max_damage:\n",
    "                costliest = hurricane\n",
    "                break\n",
    "    return costliest[\"Names\"], max_damage\n",
    "print(costliest_hurricane(hurricanes))\n",
    "\n"
   ]
  },
  {
   "cell_type": "code",
   "execution_count": 53,
   "id": "8466953a",
   "metadata": {},
   "outputs": [],
   "source": [
    "# Rating hurricanes according to how costly they were\n",
    "def cost_scale(hurricanes):\n",
    "    cost_scale = {}\n",
    "    updated_damages = update_damages(damages)\n",
    "    for i, hurricane in enumerate(hurricanes.values()):\n",
    "        damage = updated_damages[i]\n",
    "        if damage == \"Damages not recorded\":\n",
    "            cost_scale[hurricane[\"Names\"]] = \"Damages not recorded\"\n",
    "        elif damage < 100000000:\n",
    "            cost_scale[hurricane[\"Names\"]] = 0\n",
    "        elif damage < 1000000000:\n",
    "            cost_scale[hurricane[\"Names\"]] = 1\n",
    "        elif damage < 10000000000:\n",
    "            cost_scale[hurricane[\"Names\"]] = 2\n",
    "        else:\n",
    "            cost_scale[hurricane[\"Names\"]] = 3\n",
    "    return cost_scale   "
   ]
  },
  {
   "cell_type": "code",
   "execution_count": null,
   "id": "78f84a06",
   "metadata": {},
   "outputs": [],
   "source": []
  },
  {
   "cell_type": "code",
   "execution_count": null,
   "id": "708e98f9",
   "metadata": {},
   "outputs": [],
   "source": []
  },
  {
   "cell_type": "code",
   "execution_count": null,
   "id": "5ccace7a",
   "metadata": {},
   "outputs": [],
   "source": []
  },
  {
   "cell_type": "code",
   "execution_count": null,
   "id": "775582b9",
   "metadata": {},
   "outputs": [],
   "source": []
  },
  {
   "cell_type": "code",
   "execution_count": null,
   "id": "8b3004d6",
   "metadata": {},
   "outputs": [],
   "source": []
  },
  {
   "cell_type": "code",
   "execution_count": null,
   "id": "db2ca1df",
   "metadata": {},
   "outputs": [],
   "source": []
  },
  {
   "cell_type": "code",
   "execution_count": null,
   "id": "6b52b2a7",
   "metadata": {},
   "outputs": [],
   "source": []
  },
  {
   "cell_type": "code",
   "execution_count": null,
   "id": "b34a6773",
   "metadata": {},
   "outputs": [],
   "source": []
  },
  {
   "cell_type": "code",
   "execution_count": null,
   "id": "ff26e0b1",
   "metadata": {},
   "outputs": [],
   "source": []
  },
  {
   "cell_type": "code",
   "execution_count": null,
   "id": "05bfe1e6",
   "metadata": {},
   "outputs": [],
   "source": []
  },
  {
   "cell_type": "code",
   "execution_count": null,
   "id": "74435312",
   "metadata": {},
   "outputs": [],
   "source": []
  },
  {
   "cell_type": "code",
   "execution_count": null,
   "id": "a34fd377",
   "metadata": {},
   "outputs": [],
   "source": []
  }
 ],
 "metadata": {
  "kernelspec": {
   "display_name": "base",
   "language": "python",
   "name": "python3"
  },
  "language_info": {
   "codemirror_mode": {
    "name": "ipython",
    "version": 3
   },
   "file_extension": ".py",
   "mimetype": "text/x-python",
   "name": "python",
   "nbconvert_exporter": "python",
   "pygments_lexer": "ipython3",
   "version": "3.13.5"
  }
 },
 "nbformat": 4,
 "nbformat_minor": 5
}
